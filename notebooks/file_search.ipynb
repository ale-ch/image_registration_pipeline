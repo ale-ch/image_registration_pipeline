{
 "cells": [
  {
   "cell_type": "code",
   "execution_count": 1,
   "metadata": {},
   "outputs": [],
   "source": [
    "import os\n",
    "\n",
    "def list_files(directory):\n",
    "    \"\"\"\n",
    "    List all files in a directory and its subdirectories.\n",
    "\n",
    "    Args:\n",
    "        directory (str): The directory to search for files.\n",
    "\n",
    "    Returns:\n",
    "        list: List of file paths.\n",
    "    \"\"\"\n",
    "    paths = []\n",
    "    for root, _, files in os.walk(directory):\n",
    "        for file in files:\n",
    "            paths.append(os.path.join(root, file))\n",
    "    return paths"
   ]
  },
  {
   "cell_type": "code",
   "execution_count": 6,
   "metadata": {},
   "outputs": [],
   "source": [
    "path1 = '/Volumes/techunits/imaging/work/ATTEND/achiodin/ome_tiff_images'\n",
    "path2 = '/Volumes/techunits/imaging/PublicData/ImagingU/cborriero/nd2_images'"
   ]
  },
  {
   "cell_type": "code",
   "execution_count": 7,
   "metadata": {},
   "outputs": [
    {
     "data": {
      "text/plain": [
       "['/Volumes/techunits/imaging/work/ATTEND/achiodin/ome_tiff_images/2024.07.29_DAPI_CD163_CD45/20752a7_DAPI_CD163_CD45.ome.tiff',\n",
       " '/Volumes/techunits/imaging/work/ATTEND/achiodin/ome_tiff_images/2024.07.31_DAPI_FOXP3_vimentin/20752a7_DAPI_FOXP3_vimentin.ome.tiff',\n",
       " '/Volumes/techunits/imaging/work/ATTEND/achiodin/ome_tiff_images/2024.07.25_DAPI_CD14_ARPC1B/20752a7_DAPI_CD14_ARPC1B.ome.tiff',\n",
       " '/Volumes/techunits/imaging/work/ATTEND/achiodin/ome_tiff_images/2024.07.17_DAPI_MLH1_panCK/20752a7_DAPI_MLH1_panCK.ome.tiff',\n",
       " '/Volumes/techunits/imaging/work/ATTEND/achiodin/ome_tiff_images/2024.08.07_DAPI_p53_CD3/20752a7_DAPI_p53_CD3.ome.tiff',\n",
       " '/Volumes/techunits/imaging/work/ATTEND/achiodin/ome_tiff_images/2024.08.05_DAPI_CD8_CD4/20752a7_DAPI_CD8_CD4.ome.tiff']"
      ]
     },
     "execution_count": 7,
     "metadata": {},
     "output_type": "execute_result"
    }
   ],
   "source": [
    "[file for file in list_files(path1) if '20752a7' in file]"
   ]
  },
  {
   "cell_type": "code",
   "execution_count": 8,
   "metadata": {},
   "outputs": [
    {
     "data": {
      "text/plain": [
       "['/Volumes/techunits/imaging/PublicData/ImagingU/cborriero/nd2_images/2024.07.29_DAPI_CD163_CD45/20752a7_DAPI_CD163_CD45.nd2',\n",
       " '/Volumes/techunits/imaging/PublicData/ImagingU/cborriero/nd2_images/2024.07.31_DAPI_FOXP3_vimentin/20752a7_DAPI_FOXP3_vimentin.nd2',\n",
       " '/Volumes/techunits/imaging/PublicData/ImagingU/cborriero/nd2_images/2024.07.25_DAPI_CD14_ARPC1B/20752a7_DAPI_CD14_ARPC1B.nd2',\n",
       " '/Volumes/techunits/imaging/PublicData/ImagingU/cborriero/nd2_images/2024.07.17_DAPI_MLH1_panCK/20752a7_DAPI_MLH1_panCK.nd2',\n",
       " '/Volumes/techunits/imaging/PublicData/ImagingU/cborriero/nd2_images/2024.08.07_DAPI_p53_CD3/20752a7_DAPI_p53_CD3.nd2',\n",
       " '/Volumes/techunits/imaging/PublicData/ImagingU/cborriero/nd2_images/2024.08.09_DAPI_PD1_SRSF3/20752a7_DAPI_PD1_SRSF3.nd2',\n",
       " '/Volumes/techunits/imaging/PublicData/ImagingU/cborriero/nd2_images/2024.09.04_DAPI_p53_PAX2/20752a7_DAPI_p53_PAX2.nd2',\n",
       " '/Volumes/techunits/imaging/PublicData/ImagingU/cborriero/nd2_images/2024.08.05_DAPI_CD8_CD4/20752a7_DAPI_CD8_CD4.nd2',\n",
       " '/Volumes/techunits/imaging/PublicData/ImagingU/cborriero/nd2_images/2024.08.13_DAPI_PPARgamma_PDL1/20752a7_DAPI_PPARgamma_PDL1.nd2']"
      ]
     },
     "execution_count": 8,
     "metadata": {},
     "output_type": "execute_result"
    }
   ],
   "source": [
    "[file for file in list_files(path2) if '20752a7' in file]"
   ]
  }
 ],
 "metadata": {
  "kernelspec": {
   "display_name": "base",
   "language": "python",
   "name": "python3"
  },
  "language_info": {
   "codemirror_mode": {
    "name": "ipython",
    "version": 3
   },
   "file_extension": ".py",
   "mimetype": "text/x-python",
   "name": "python",
   "nbconvert_exporter": "python",
   "pygments_lexer": "ipython3",
   "version": "3.12.2"
  }
 },
 "nbformat": 4,
 "nbformat_minor": 2
}

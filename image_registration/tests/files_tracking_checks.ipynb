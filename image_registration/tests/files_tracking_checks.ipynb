{
 "cells": [
  {
   "cell_type": "code",
   "execution_count": 55,
   "metadata": {},
   "outputs": [],
   "source": [
    "import os\n",
    "import re\n",
    "import pandas as pd\n",
    "\n",
    "\n",
    "# pd.set_option('display.max_colwidth', 0)"
   ]
  },
  {
   "cell_type": "code",
   "execution_count": 57,
   "metadata": {},
   "outputs": [],
   "source": [
    "def list_files(directory):\n",
    "    \"\"\"\n",
    "    List all files in a directory and its subdirectories.\n",
    "\n",
    "    Args:\n",
    "        directory (str): The directory to search for files.\n",
    "\n",
    "    Returns:\n",
    "        list: List of file paths.\n",
    "    \"\"\"\n",
    "    paths = []\n",
    "    for root, _, files in os.walk(directory):\n",
    "        for file in files:\n",
    "            paths.append(os.path.join(root, file))\n",
    "    return paths\n",
    "\n",
    "def get_leaf_directory(path):\n",
    "    \"\"\"\n",
    "    Get the leaf directory name from a given path.\n",
    "\n",
    "    Args:\n",
    "        path (str): The file path.\n",
    "\n",
    "    Returns:\n",
    "        str: The leaf directory name.\n",
    "    \"\"\"\n",
    "    return os.path.basename(os.path.dirname(path))\n",
    "\n",
    "def oldest_date_value(group):\n",
    "    \"\"\"\n",
    "    Get the file path corresponding to the oldest date in the group.\n",
    "\n",
    "    Args:\n",
    "        group (pd.Series): The group of file paths.\n",
    "\n",
    "    Returns:\n",
    "        str: The file path with the oldest date.\n",
    "    \"\"\"\n",
    "    if not group.empty:\n",
    "        return group.loc[group['date'].idxmin(), 'input_path']\n",
    "    return None\n",
    "\n",
    "def get_base_directory_and_file(path):\n",
    "    \"\"\"\n",
    "    Get the base directory and file name from a path.\n",
    "\n",
    "    Args:\n",
    "        path (str): The file path.\n",
    "\n",
    "    Returns:\n",
    "        str: The combined base directory and file name.\n",
    "    \"\"\"\n",
    "    dir_name = os.path.basename(os.path.dirname(path))\n",
    "    file_name = os.path.basename(path)\n",
    "    return os.path.join(dir_name, file_name)\n",
    "\n",
    "def remove_extension(filename):\n",
    "        return re.sub(r'(\\.\\w+)+$', '', filename)\n",
    "\n",
    "def generate_sample_sheet(input_dir, output_dir, input_ext='.nd2', output_ext='.nd2'):\n",
    "    \"\"\"\n",
    "    Generate a sample sheet with input and output paths.\n",
    "\n",
    "    Args:\n",
    "        input_dir (str): The directory containing input files.\n",
    "        output_dir (str): The directory to store output files.\n",
    "        file_extension (str): The file extension to filter by.\n",
    "\n",
    "    Returns:\n",
    "        pd.DataFrame: The generated sample sheet.\n",
    "    \"\"\"\n",
    "    input_paths = [path for path in list_files(input_dir) if path.endswith(input_ext)]\n",
    "    patient_ids = [os.path.basename(path).split('_', 1)[0] for path in input_paths]\n",
    "    sample_sheet = pd.DataFrame({'patient_id': patient_ids, 'input_path': input_paths})\n",
    "\n",
    "    # Function to join dir_path with the filename\n",
    "    def join_path(file_path):\n",
    "        return os.path.join(output_dir, file_path)\n",
    "\n",
    "    sample_sheet['base_dir'] = sample_sheet['input_path'].apply(get_base_directory_and_file)\n",
    "    sample_sheet['output_path'] = sample_sheet['base_dir'].apply(join_path)\n",
    "    sample_sheet.drop(columns=['base_dir'], inplace=True)\n",
    "    sample_sheet['output_path'] = sample_sheet['output_path'].apply(remove_extension) + output_ext\n",
    "\n",
    "    print('Sample sheet generated successfully.')\n",
    "    return sample_sheet\n",
    "\n",
    "def get_fixed_image(sample_sheet):\n",
    "    sample_sheet['date'] = pd.to_datetime(sample_sheet['input_path'].str.extract(r'(\\d{4}\\.\\d{2}\\.\\d{2})')[0], format='%Y.%m.%d')\n",
    "    sample_sheet.dropna(subset=['date'], inplace=True)\n",
    "    sample_sheet.sort_values(by=['patient_id', 'date'], inplace=True)\n",
    "    sample_sheet['fixed_image_path'] = sample_sheet.groupby('patient_id')['input_path'].transform(lambda x: oldest_date_value(sample_sheet.loc[x.index]))\n",
    "    sample_sheet.drop(columns=['date'], inplace=True)\n",
    "    sample_sheet.sort_values(by=['patient_id'], inplace=True)\n",
    "    return sample_sheet\n",
    "\n",
    "def get_samples_to_process(sample_sheet):\n",
    "    # Files to process: logged output files that do not exist\n",
    "    return sample_sheet[~sample_sheet['output_path'].apply(os.path.exists)]\n",
    "\n",
    "def make_dirs(sample_sheet):\n",
    "    output_subdirs = list(sample_sheet['output_path'].apply(os.path.dirname))\n",
    "    output_subdirs = list(set(output_subdirs))\n",
    "    for dir in output_subdirs:\n",
    "        if not os.path.exists(dir):\n",
    "            os.mkdir(dir)\n",
    "            print(f'Created directory: \"{dir}\"')"
   ]
  },
  {
   "cell_type": "code",
   "execution_count": 58,
   "metadata": {},
   "outputs": [],
   "source": [
    "# root_dir = '/Volumes'\n",
    "root_dir = '/hpcnfs'\n",
    "\n",
    "input_dir = root_dir + '/scratch/DIMA/chiodin/repositories/image_registration_pipeline/image_registration/tests/data/input'\n",
    "output_dir = root_dir + '/scratch/DIMA/chiodin/repositories/image_registration_pipeline/image_registration/tests/data/output'\n",
    "logs_dir = '/hpcnfs/scratch/DIMA/chiodin/repositories/image_registration_pipeline/image_registration/output'"
   ]
  },
  {
   "cell_type": "code",
   "execution_count": 59,
   "metadata": {},
   "outputs": [],
   "source": [
    "# Check that all files in output directory have a correspondence in the input directory\n",
    "input_files_stripped = [re.sub(r'\\.\\w+', '', get_base_directory_and_file(file)) for file in list_files(input_dir)]\n",
    "output_files_stripped = [re.sub(r'\\.\\w+', '', get_base_directory_and_file(file)) for file in list_files(output_dir)]\n",
    "\n",
    "if output_files_stripped:\n",
    "    for file in output_files_stripped:\n",
    "        if file not in input_files_stripped:\n",
    "            print(f'Warning: output file \"{file}\": no correspondence found in input directory.')\n",
    "\n",
    "sample_sheet_path = '/hpcnfs/scratch/DIMA/chiodin/repositories/image_registration_pipeline/image_registration/output/test_sample_sheet.csv'\n",
    "if os.path.exists(sample_sheet_path):\n",
    "    sample_sheet = pd.read_csv(sample_sheet_path)\n",
    "    # Check that all output files are in log\n",
    "    output_files = list_files(output_dir) \n",
    "    if output_files:\n",
    "        for element in output_files:\n",
    "            if element not in list(sample_sheet['output_path']):\n",
    "                print(f'Warning: output file \"{element}\" not found in output files log.')\n",
    "\n",
    "    # Check that all logged input files exist\n",
    "    input_files = list_files(input_dir)\n",
    "    for element in list(sample_sheet['input_path']):\n",
    "        if element not in input_files:\n",
    "            print(f'Warning: input file \"{element}\" not found in input directory.')"
   ]
  },
  {
   "cell_type": "code",
   "execution_count": 60,
   "metadata": {},
   "outputs": [
    {
     "name": "stdout",
     "output_type": "stream",
     "text": [
      "Sample sheet generated successfully.\n"
     ]
    }
   ],
   "source": [
    "sample_sheet = generate_sample_sheet(input_dir, output_dir, input_ext='.nd2', output_ext='.nd2')\n",
    "samples_to_process = get_samples_to_process(sample_sheet)"
   ]
  },
  {
   "cell_type": "code",
   "execution_count": 43,
   "metadata": {},
   "outputs": [],
   "source": [
    "sample_sheet.to_csv(os.path.join(logs_dir, 'test_sample_sheet.csv'), index=False)\n",
    "samples_to_process.to_csv(os.path.join(logs_dir, 'test_samples_to_process.csv'), index=False)"
   ]
  },
  {
   "cell_type": "code",
   "execution_count": 63,
   "metadata": {},
   "outputs": [
    {
     "name": "stdout",
     "output_type": "stream",
     "text": [
      "['/hpcnfs/scratch/DIMA/chiodin/repositories/image_registration_pipeline/image_registration/tests/data/output/2024.07.09_ARP18_COV19', '/hpcnfs/scratch/DIMA/chiodin/repositories/image_registration_pipeline/image_registration/tests/data/output/2024.08.08_DAITARN', '/hpcnfs/scratch/DIMA/chiodin/repositories/image_registration_pipeline/image_registration/tests/data/output/2024.08.06_DAPI_MLH1']\n"
     ]
    }
   ],
   "source": [
    "make_dirs(sample_sheet)"
   ]
  }
 ],
 "metadata": {
  "kernelspec": {
   "display_name": "base",
   "language": "python",
   "name": "python3"
  },
  "language_info": {
   "codemirror_mode": {
    "name": "ipython",
    "version": 3
   },
   "file_extension": ".py",
   "mimetype": "text/x-python",
   "name": "python",
   "nbconvert_exporter": "python",
   "pygments_lexer": "ipython3",
   "version": "3.12.3"
  }
 },
 "nbformat": 4,
 "nbformat_minor": 2
}

{
 "cells": [
  {
   "cell_type": "code",
   "execution_count": 57,
   "metadata": {},
   "outputs": [],
   "source": [
    "import os\n",
    "import re\n",
    "import pandas as pd"
   ]
  },
  {
   "cell_type": "code",
   "execution_count": 58,
   "metadata": {},
   "outputs": [],
   "source": [
    "pd.set_option('display.max_colwidth', 0)"
   ]
  },
  {
   "cell_type": "code",
   "execution_count": 59,
   "metadata": {},
   "outputs": [],
   "source": [
    "def list_files(directory):\n",
    "    \"\"\"\n",
    "    List all files in a directory and its subdirectories.\n",
    "\n",
    "    Args:\n",
    "        directory (str): The directory to search for files.\n",
    "\n",
    "    Returns:\n",
    "        list: List of file paths.\n",
    "    \"\"\"\n",
    "    paths = []\n",
    "    for root, _, files in os.walk(directory):\n",
    "        for file in files:\n",
    "            paths.append(os.path.join(root, file))\n",
    "    return paths\n",
    "\n",
    "def get_leaf_directory(path):\n",
    "    \"\"\"\n",
    "    Get the leaf directory name from a given path.\n",
    "\n",
    "    Args:\n",
    "        path (str): The file path.\n",
    "\n",
    "    Returns:\n",
    "        str: The leaf directory name.\n",
    "    \"\"\"\n",
    "    return os.path.basename(os.path.dirname(path))\n",
    "\n",
    "def oldest_date_value(group):\n",
    "    \"\"\"\n",
    "    Get the file path corresponding to the oldest date in the group.\n",
    "\n",
    "    Args:\n",
    "        group (pd.Series): The group of file paths.\n",
    "\n",
    "    Returns:\n",
    "        str: The file path with the oldest date.\n",
    "    \"\"\"\n",
    "    if not group.empty:\n",
    "        return group.loc[group['date'].idxmin(), 'input_path']\n",
    "    return None\n",
    "\n",
    "def get_base_directory_and_file(path):\n",
    "    \"\"\"\n",
    "    Get the base directory and file name from a path.\n",
    "\n",
    "    Args:\n",
    "        path (str): The file path.\n",
    "\n",
    "    Returns:\n",
    "        str: The combined base directory and file name.\n",
    "    \"\"\"\n",
    "    dir_name = os.path.basename(os.path.dirname(path))\n",
    "    file_name = os.path.basename(path)\n",
    "    return os.path.join(dir_name, file_name)\n",
    "\n",
    "def remove_extension(filename):\n",
    "        return re.sub(r'(\\.\\w+)+$', '', filename)\n",
    "\n",
    "def generate_sample_sheet(input_dir, output_dir, input_ext='.nd2', output_ext='.nd2'):\n",
    "    \"\"\"\n",
    "    Generate a sample sheet with input and output paths.\n",
    "\n",
    "    Args:\n",
    "        input_dir (str): The directory containing input files.\n",
    "        output_dir (str): The directory to store output files.\n",
    "        file_extension (str): The file extension to filter by.\n",
    "\n",
    "    Returns:\n",
    "        pd.DataFrame: The generated sample sheet.\n",
    "    \"\"\"\n",
    "    input_paths = [path for path in list_files(input_dir) if path.endswith(input_ext)]\n",
    "    patient_ids = [os.path.basename(path).split('_', 1)[0] for path in input_paths]\n",
    "    sample_sheet = pd.DataFrame({'patient_id': patient_ids, 'input_path': input_paths})\n",
    "    sample_sheet['output_path'] = output_dir + sample_sheet['input_path'].apply(get_base_directory_and_file)\n",
    "    sample_sheet['output_path'] = sample_sheet['output_path'].apply(remove_extension) + output_ext\n",
    "    return sample_sheet\n",
    "\n",
    "def get_fixed_image(sample_sheet):\n",
    "    sample_sheet['date'] = pd.to_datetime(sample_sheet['input_path'].str.extract(r'(\\d{4}\\.\\d{2}\\.\\d{2})')[0], format='%Y.%m.%d')\n",
    "    sample_sheet.dropna(subset=['date'], inplace=True)\n",
    "    sample_sheet.sort_values(by=['patient_id', 'date'], inplace=True)\n",
    "    sample_sheet['fixed_image_path'] = sample_sheet.groupby('patient_id')['input_path'].transform(lambda x: oldest_date_value(sample_sheet.loc[x.index]))\n",
    "    sample_sheet.drop(columns=['date'], inplace=True)\n",
    "    sample_sheet.sort_values(by=['patient_id'], inplace=True)\n",
    "    return sample_sheet"
   ]
  },
  {
   "cell_type": "code",
   "execution_count": null,
   "metadata": {},
   "outputs": [],
   "source": [
    "def make_missing_dirs(sample_sheet):\n",
    "    output_subdirs = list(sample_sheet['output_path'].apply(os.path.dirname))\n",
    "    output_subdirs = list(set(output_subdirs))\n",
    "    print(output_subdirs)\n",
    "    for dir in output_subdirs:\n",
    "        if not os.path.exists(dir):\n",
    "            # os.mkdir(dir)\n",
    "            print(f'Created directory: {dir}')\n",
    "        else:\n",
    "            print(f'Directory already exists: {dir}')"
   ]
  },
  {
   "cell_type": "code",
   "execution_count": 60,
   "metadata": {},
   "outputs": [],
   "source": [
    "# root_dir = '/Volumes'\n",
    "root_dir = '/hpcnfs'"
   ]
  },
  {
   "cell_type": "code",
   "execution_count": 67,
   "metadata": {},
   "outputs": [],
   "source": [
    "input_dir = root_dir + '/techunits/imaging/PublicData/ImagingU/cborriero/nd2_images'\n",
    "output_dir = root_dir + '/techunits/imaging/work/ATTEND/achiodin/ome_tiff_images/'\n",
    "\n",
    "sample_sheet = generate_sample_sheet(input_dir, output_dir, input_ext='.nd2', output_ext='.ome.tiff')\n",
    "samples_to_process = sample_sheet[~sample_sheet['output_path'].apply(os.path.exists)]"
   ]
  },
  {
   "cell_type": "code",
   "execution_count": 65,
   "metadata": {},
   "outputs": [],
   "source": [
    "input_dir = root_dir + '/techunits/imaging/work/ATTEND/achiodin/ome_tiff_images/'\n",
    "output_dir = root_dir + '/techunits/imaging/work/ATTEND/achiodin/image_registration_pipeline/image_registration/output/registered_stitched_images/'\n",
    "\n",
    "sample_sheet = generate_sample_sheet(input_dir, output_dir, input_ext='.ome.tiff', output_ext='.ome.tiff')\n",
    "sample_sheet = get_fixed_image(sample_sheet)\n",
    "samples_to_process = sample_sheet[~sample_sheet['output_path'].apply(os.path.exists)]"
   ]
  },
  {
   "cell_type": "code",
   "execution_count": null,
   "metadata": {},
   "outputs": [],
   "source": [
    "# df.to_csv('/hpcnfs/scratch/DIMA/chiodin/repositories/image_registration_pipeline/image_registration/output/df.csv')"
   ]
  },
  {
   "cell_type": "code",
   "execution_count": 123,
   "metadata": {},
   "outputs": [],
   "source": [
    "# sample_sheet.to_csv('/hpcnfs/scratch/DIMA/chiodin/repositories/image_registration_pipeline/image_registration/output/sample_sheet.csv', index=False)\n",
    "# sample_sheet = pd.read_csv(root_dir + '/scratch/DIMA/chiodin/repositories/image_registration_pipeline/image_registration/output/sample_sheet.csv')"
   ]
  },
  {
   "cell_type": "code",
   "execution_count": null,
   "metadata": {},
   "outputs": [],
   "source": [
    "import argparse\n",
    "import os \n",
    "import pathlib\n",
    "from skimage.io import imread \n",
    "from utils.image_cropping import estimate_overlap\n",
    "from utils.image_cropping import crop_2d_array_grid\n",
    "from utils.wrappers.create_checkpoint_dirs import create_checkpoint_dirs\n",
    "from utils.wrappers.compute_mappings import compute_mappings\n",
    "from utils.wrappers.apply_mappings import apply_mappings\n",
    "from utils.wrappers.export_image import export_image\n",
    "from utils.empty_folder import empty_folder\n",
    "\n",
    "def register_images(sample_sheet, mappings_dir, registered_crops_dir,  \n",
    "                    crop_width_x, crop_width_y, overlap_factor=0.3, delete_checkpoints=False):\n",
    "    for i, row in sample_sheet.iterrows():\n",
    "        input_path = row['input_path']\n",
    "        output_path = row['output_path']\n",
    "        fixed_image_path = row['fixed_image_path']\n",
    "\n",
    "        print(f'Output path: {output_path}')\n",
    "        fixed_image = imread(fixed_image_path)\n",
    "        moving_image = imread(input_path)\n",
    "        \n",
    "        overlap_x, overlap_y = estimate_overlap(fixed_image, moving_image, overlap_factor=overlap_factor)\n",
    "        fixed_crops = crop_2d_array_grid(fixed_image, crop_width_x, crop_width_y, overlap_x, overlap_y)\n",
    "        moving_crops = crop_2d_array_grid(moving_image, crop_width_x, crop_width_y, overlap_x, overlap_y)\n",
    "\n",
    "        current_mappings_dir, current_registered_crops_dir = create_checkpoint_dirs(mappings_dir, registered_crops_dir, input_path)\n",
    "        mappings = compute_mappings(fixed_crops=fixed_crops, moving_crops=moving_crops, checkpoint_dir=current_mappings_dir)\n",
    "        registered_crops = apply_mappings(mappings=mappings, moving_crops=moving_crops, checkpoint_dir=current_registered_crops_dir)\n",
    "        export_image(registered_crops, overlap_x, overlap_y, output_path)\n",
    "        print('Image processed successfully.')\n",
    "\n",
    "        if delete_checkpoints:\n",
    "            empty_folder(current_mappings_dir)\n",
    "            print(f'Content deleted successfully: {current_mappings_dir}')\n",
    "            empty_folder(current_registered_crops_dir)\n",
    "            print(f'Content deleted successfully: {current_registered_crops_dir}')"
   ]
  }
 ],
 "metadata": {
  "kernelspec": {
   "display_name": "base",
   "language": "python",
   "name": "python3"
  },
  "language_info": {
   "codemirror_mode": {
    "name": "ipython",
    "version": 3
   },
   "file_extension": ".py",
   "mimetype": "text/x-python",
   "name": "python",
   "nbconvert_exporter": "python",
   "pygments_lexer": "ipython3",
   "version": "3.12.3"
  }
 },
 "nbformat": 4,
 "nbformat_minor": 2
}

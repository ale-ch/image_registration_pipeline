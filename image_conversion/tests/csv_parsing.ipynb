{
 "cells": [
  {
   "cell_type": "code",
   "execution_count": 1,
   "metadata": {},
   "outputs": [],
   "source": [
    "import pandas as pd"
   ]
  },
  {
   "cell_type": "code",
   "execution_count": 9,
   "metadata": {},
   "outputs": [],
   "source": [
    "a = [\"Hello\", \"Isaac\", \"EXPLODING\"]\n",
    "b = [\"America\", \"Newton\", \"CATS\"]\n",
    "\n",
    "df = pd.DataFrame({'a': a, 'b': b})\n",
    "\n",
    "df.to_csv('/Users/alessiochiodin/Documents/Repositories/image_registration_pipeline/nd2_to_ome_tiff/tests/df.csv', index=False)"
   ]
  }
 ],
 "metadata": {
  "kernelspec": {
   "display_name": "Python 3",
   "language": "python",
   "name": "python3"
  },
  "language_info": {
   "codemirror_mode": {
    "name": "ipython",
    "version": 3
   },
   "file_extension": ".py",
   "mimetype": "text/x-python",
   "name": "python",
   "nbconvert_exporter": "python",
   "pygments_lexer": "ipython3",
   "version": "3.12.2"
  }
 },
 "nbformat": 4,
 "nbformat_minor": 2
}

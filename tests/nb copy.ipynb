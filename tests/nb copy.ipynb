{
 "cells": [
  {
   "cell_type": "code",
   "execution_count": 4,
   "metadata": {},
   "outputs": [],
   "source": [
    "import pickle\n",
    "\n",
    "def save_pickle(object, path):\n",
    "    # Open a file in binary write mode\n",
    "    with open(path, 'wb') as file:\n",
    "        # Serialize the object and write it to the file\n",
    "        pickle.dump(object, file)\n",
    "\n",
    "def load_pickle(path):\n",
    "    # Open the file in binary read mode\n",
    "    with open(path, 'rb') as file:\n",
    "    # Deserialize the object from the file\n",
    "        loaded_data = pickle.load(file)\n",
    "\n",
    "    return loaded_data"
   ]
  },
  {
   "cell_type": "code",
   "execution_count": 3,
   "metadata": {},
   "outputs": [
    {
     "name": "stderr",
     "output_type": "stream",
     "text": [
      "/opt/miniconda3/lib/python3.12/site-packages/tqdm/auto.py:21: TqdmWarning: IProgress not found. Please update jupyter and ipywidgets. See https://ipywidgets.readthedocs.io/en/stable/user_install.html\n",
      "  from .autonotebook import tqdm as notebook_tqdm\n"
     ]
    }
   ],
   "source": [
    "#!/usr/bin/env python\n",
    "\n",
    "# Import necessary libraries\n",
    "import cv2\n",
    "import numpy as np\n",
    "from dipy.align.imwarp import SymmetricDiffeomorphicRegistration\n",
    "from dipy.align.metrics import CCMetric\n",
    "from dipy.align.transforms import AffineTransform2D\n",
    "from dipy.align.imaffine import AffineRegistration\n",
    "\n",
    "def compute_diffeomorphic_mapping_dipy(y: np.ndarray, x: np.ndarray, sigma_diff=20, radius=20):\n",
    "    \"\"\"\n",
    "    Compute diffeomorphic mapping using DIPY.\n",
    "    \n",
    "    Parameters:\n",
    "        y (ndarray): Reference image.\n",
    "        x (ndarray): Moving image to be registered.\n",
    "        sigma_diff (int, optional): Standard deviation for the CCMetric. Default is 20.\n",
    "        radius (int, optional): Radius for the CCMetric. Default is 20.\n",
    "\n",
    "    Returns:\n",
    "        mapping: A mapping object containing the transformation information.\n",
    "    \"\"\"\n",
    "    if y.shape != x.shape:\n",
    "        raise ValueError(\"Reference image (y) and moving image (x) must have the same shape.\")\n",
    "    \n",
    "    # Initialize the AffineRegistration and AffineTransform2D objects\n",
    "    affreg = AffineRegistration()\n",
    "    transform = AffineTransform2D()\n",
    "\n",
    "    # Perform the optimization procedure with two images reference_image and moving_image\n",
    "    # params0 is set to None as we don't have initial parameters\n",
    "    affine = affreg.optimize(y, x, transform, params0=None)\n",
    "\n",
    "    # Define the metric and registration object\n",
    "    metric = CCMetric(2, sigma_diff=sigma_diff, radius=radius)\n",
    "    sdr = SymmetricDiffeomorphicRegistration(metric)\n",
    "\n",
    "    # Perform the diffeomorphic registration using a pre-alignment from affine registration\n",
    "    mapping = sdr.optimize(y, x, prealign=affine.affine)\n",
    "\n",
    "    return mapping  \n"
   ]
  },
  {
   "cell_type": "code",
   "execution_count": 15,
   "metadata": {},
   "outputs": [],
   "source": [
    "import os\n",
    "from concurrent.futures import ProcessPoolExecutor\n",
    "\n",
    "\n",
    "def process_crop(fixed_file, moving_file, current_crops_dir_fixed, current_crops_dir_moving, checkpoint_dir):\n",
    "    \"\"\"\n",
    "    Loads a pair of fixed and moving crops from their respective directories.\n",
    "\n",
    "    Args:\n",
    "        fixed_file (str): Filename of the fixed crop.\n",
    "        moving_file (str): Filename of the moving crop.\n",
    "        current_crops_dir_fixed (str): Directory where fixed crops are stored.\n",
    "        current_crops_dir_moving (str): Directory where moving crops are stored.\n",
    "\n",
    "    Returns:\n",
    "        tuple: A tuple containing the fixed crop and the moving crop.\n",
    "    \"\"\"\n",
    "    fixed_crop = load_pickle(os.path.join(current_crops_dir_fixed, fixed_file))\n",
    "    moving_crop = load_pickle(os.path.join(current_crops_dir_moving, moving_file))\n",
    "\n",
    "    checkpoint_path = os.path.join(checkpoint_dir, f'mapping_{fixed_crop[0][0]}_{fixed_crop[0][1]}.pkl')\n",
    "    \n",
    "    if os.path.exists(checkpoint_path):\n",
    "        # Load mapping from checkpoint if it exists\n",
    "        mapping_diffeomorphic = load_pickle(checkpoint_path)\n",
    "        print(f\"Loaded checkpoint for i={fixed_crop[0][0]}_{fixed_crop[0][1]}\")\n",
    "    else:\n",
    "        fixed_crop_dapi = fixed_crop[1][:, :, 2]\n",
    "        mov_crop_dapi = moving_crop[1][:, :, 2]\n",
    "\n",
    "        if fixed_crop_dapi.shape != mov_crop_dapi.shape:\n",
    "            return None\n",
    "        else:\n",
    "            mapping_diffeomorphic = compute_diffeomorphic_mapping_dipy(fixed_crop_dapi, mov_crop_dapi)\n",
    "            # Save the computed mapping\n",
    "            save_pickle(mapping_diffeomorphic, checkpoint_path)\n",
    "            print(f\"Saved checkpoint for i={fixed_crop[0][0]}_{fixed_crop[0][1]}\")\n",
    "            \n",
    "    return fixed_crop, moving_crop"
   ]
  },
  {
   "cell_type": "code",
   "execution_count": 8,
   "metadata": {},
   "outputs": [],
   "source": [
    "current_crops_dir_fixed = '/Volumes/scratch/DIMA/chiodin/tests/images_h2000_w2000/data/crops/2024.08.30_DAPI_PPARgamma_PDL1/785R1_DAPI_PPARgamma_PDL1'\n",
    "current_crops_dir_moving = '/Volumes/scratch/DIMA/chiodin/tests/images_h2000_w2000/data/crops/2024.08.31_DAPI_PD1_SRSF3/785R1_DAPI_PD1_SRSF3'\n",
    "checkpoint_dir = '/Volumes/scratch/DIMA/chiodin/tests/images_h2000_w2000/data/mappings/2024.08.31_DAPI_PD1_SRSF3/785R1_DAPI_PD1_SRSF3'\n",
    "max_workers=2"
   ]
  },
  {
   "cell_type": "code",
   "execution_count": 9,
   "metadata": {},
   "outputs": [],
   "source": [
    "fixed_files = [os.path.join(current_crops_dir_fixed, file) for file in os.listdir(current_crops_dir_fixed)]\n",
    "moving_files = [os.path.join(current_crops_dir_moving, file) for file in os.listdir(current_crops_dir_moving)]"
   ]
  },
  {
   "cell_type": "code",
   "execution_count": 17,
   "metadata": {},
   "outputs": [
    {
     "name": "stderr",
     "output_type": "stream",
     "text": [
      "Process SpawnProcess-8:\n",
      "Process SpawnProcess-7:\n",
      "Traceback (most recent call last):\n",
      "Traceback (most recent call last):\n",
      "  File \"/opt/miniconda3/lib/python3.12/multiprocessing/process.py\", line 314, in _bootstrap\n",
      "    self.run()\n",
      "  File \"/opt/miniconda3/lib/python3.12/multiprocessing/process.py\", line 314, in _bootstrap\n",
      "    self.run()\n",
      "  File \"/opt/miniconda3/lib/python3.12/multiprocessing/process.py\", line 108, in run\n",
      "    self._target(*self._args, **self._kwargs)\n",
      "  File \"/opt/miniconda3/lib/python3.12/multiprocessing/process.py\", line 108, in run\n",
      "    self._target(*self._args, **self._kwargs)\n",
      "  File \"/opt/miniconda3/lib/python3.12/concurrent/futures/process.py\", line 251, in _process_worker\n",
      "    call_item = call_queue.get(block=True)\n",
      "                ^^^^^^^^^^^^^^^^^^^^^^^^^^\n",
      "  File \"/opt/miniconda3/lib/python3.12/concurrent/futures/process.py\", line 251, in _process_worker\n",
      "    call_item = call_queue.get(block=True)\n",
      "                ^^^^^^^^^^^^^^^^^^^^^^^^^^\n",
      "  File \"/opt/miniconda3/lib/python3.12/multiprocessing/queues.py\", line 122, in get\n",
      "    return _ForkingPickler.loads(res)\n",
      "           ^^^^^^^^^^^^^^^^^^^^^^^^^^\n",
      "  File \"/opt/miniconda3/lib/python3.12/multiprocessing/queues.py\", line 122, in get\n",
      "    return _ForkingPickler.loads(res)\n",
      "           ^^^^^^^^^^^^^^^^^^^^^^^^^^\n",
      "AttributeError: Can't get attribute 'process_crop' on <module '__main__' (<class '_frozen_importlib.BuiltinImporter'>)>\n",
      "AttributeError: Can't get attribute 'process_crop' on <module '__main__' (<class '_frozen_importlib.BuiltinImporter'>)>\n"
     ]
    }
   ],
   "source": [
    "if not os.path.exists(checkpoint_dir):\n",
    "        os.makedirs(checkpoint_dir)\n",
    "\n",
    "mappings = []\n",
    "\n",
    "# Use ProcessPoolExecutor for parallel processing\n",
    "with ProcessPoolExecutor(max_workers=max_workers) as executor:\n",
    "    # Submit tasks for each crop\n",
    "    futures = [\n",
    "        executor.submit(process_crop, fixed_crop, moving_crop, current_crops_dir_fixed, current_crops_dir_moving, checkpoint_dir)\n",
    "        for fixed_crop, moving_crop in zip(fixed_files, moving_files)\n",
    "    ]\n",
    "\n",
    "    # # Collect the results as they complete\n",
    "    # for future in futures:\n",
    "    #     mappings.append(future.result()[\"mapping\"])\n"
   ]
  }
 ],
 "metadata": {
  "kernelspec": {
   "display_name": "base",
   "language": "python",
   "name": "python3"
  },
  "language_info": {
   "codemirror_mode": {
    "name": "ipython",
    "version": 3
   },
   "file_extension": ".py",
   "mimetype": "text/x-python",
   "name": "python",
   "nbconvert_exporter": "python",
   "pygments_lexer": "ipython3",
   "version": "3.12.2"
  }
 },
 "nbformat": 4,
 "nbformat_minor": 2
}

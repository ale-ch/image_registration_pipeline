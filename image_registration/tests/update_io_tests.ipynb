{
 "cells": [
  {
   "cell_type": "code",
   "execution_count": 1,
   "metadata": {},
   "outputs": [],
   "source": [
    "import os\n",
    "import re\n",
    "import datetime\n",
    "import pandas as pd\n",
    "import logging\n",
    "\n",
    "pd.set_option('display.max_colwidth', 0)"
   ]
  },
  {
   "cell_type": "code",
   "execution_count": 2,
   "metadata": {},
   "outputs": [],
   "source": [
    "os.chdir('/Users/alessiochiodin/Documents/Repositories/image_registration_pipeline')"
   ]
  },
  {
   "cell_type": "code",
   "execution_count": 3,
   "metadata": {},
   "outputs": [],
   "source": [
    "from shared import logging_config\n",
    "\n",
    "# logs_dir = '/hpcnfs/scratch/DIMA/chiodin/repositories/image_registration_pipeline/image_registration/logs'\n",
    "logs_dir = '/Users/alessiochiodin/Documents/Repositories/image_registration_pipeline/image_registration/logs'\n",
    "\n",
    "logging_config.setup_logging()\n",
    "\n",
    "logger = logging.getLogger(__name__)\n",
    "\n",
    "handler = logging.FileHandler(os.path.join(logs_dir, 'update_io.log'))\n",
    "formatter = logging.Formatter('%(asctime)s - %(name)s - %(levelname)s - %(message)s')\n",
    "handler.setFormatter(formatter)\n",
    "logger.addHandler(handler)"
   ]
  },
  {
   "cell_type": "code",
   "execution_count": 4,
   "metadata": {},
   "outputs": [],
   "source": [
    "def list_files(directory):\n",
    "    \"\"\"\n",
    "    List all files in a directory and its subdirectories.\n",
    "\n",
    "    Args:\n",
    "        directory (str): The directory to search for files.\n",
    "\n",
    "    Returns:\n",
    "        list: List of file paths.\n",
    "    \"\"\"\n",
    "    paths = []\n",
    "    for root, _, files in os.walk(directory):\n",
    "        for file in files:\n",
    "            paths.append(os.path.join(root, file))\n",
    "    return paths\n",
    "\n",
    "def get_leaf_directory(path):\n",
    "    \"\"\"\n",
    "    Get the leaf directory name from a given path.\n",
    "\n",
    "    Args:\n",
    "        path (str): The file path.\n",
    "\n",
    "    Returns:\n",
    "        str: The leaf directory name.\n",
    "    \"\"\"\n",
    "    return os.path.basename(os.path.dirname(path))\n",
    "\n",
    "def get_base_directory_and_file(path):\n",
    "    \"\"\"\n",
    "    Get the base directory and file name from a path.\n",
    "\n",
    "    Args:\n",
    "        path (str): The file path.\n",
    "\n",
    "    Returns:\n",
    "        str: The combined base directory and file name.\n",
    "    \"\"\"\n",
    "    dir_name = os.path.basename(os.path.dirname(path))\n",
    "    file_name = os.path.basename(path)\n",
    "    return os.path.join(dir_name, file_name)\n",
    "\n",
    "def remove_extension(filename):\n",
    "        return re.sub(r'(\\.\\w+)+$', '', filename)\n",
    "\n",
    "def generate_sample_sheet(input_dir, output_dir, input_ext='.nd2', output_ext='.nd2'):\n",
    "    \"\"\"\n",
    "    Generate a sample sheet with input and output paths.\n",
    "\n",
    "    Args:\n",
    "        input_dir (str): The directory containing input files.\n",
    "        output_dir (str): The directory to store output files.\n",
    "        file_extension (str): The file extension to filter by.\n",
    "\n",
    "    Returns:\n",
    "        pd.DataFrame: The generated sample sheet.\n",
    "    \"\"\"\n",
    "    input_paths = [path for path in list_files(input_dir) if path.endswith(input_ext)]\n",
    "    patient_ids = [os.path.basename(path).split('_', 1)[0] for path in input_paths]\n",
    "    sample_sheet = pd.DataFrame({'patient_id': patient_ids, 'input_path': input_paths})\n",
    "\n",
    "    # Function to join dir_path with the filename\n",
    "    def join_path(file_path):\n",
    "        return os.path.join(output_dir, file_path)\n",
    "\n",
    "    sample_sheet['base_dir'] = sample_sheet['input_path'].apply(get_base_directory_and_file)\n",
    "    sample_sheet['output_path'] = sample_sheet['base_dir'].apply(join_path)\n",
    "    sample_sheet.drop(columns=['base_dir'], inplace=True)\n",
    "    sample_sheet['output_path'] = sample_sheet['output_path'].apply(remove_extension) + output_ext\n",
    "    sample_sheet['processed'] = sample_sheet['output_path'].apply(lambda x: os.path.exists(x)) \n",
    "\n",
    "    logger.info('Sample sheet generated successfully.')\n",
    "    return sample_sheet\n",
    "\n",
    "def make_dirs(sample_sheet):\n",
    "    output_subdirs = list(sample_sheet['output_path'].apply(os.path.dirname))\n",
    "    output_subdirs = list(set(output_subdirs))\n",
    "    for dir in output_subdirs:\n",
    "        if not os.path.exists(dir):\n",
    "            os.mkdir(dir)\n",
    "            logger.info(f'Created directory: \"{dir}\"')"
   ]
  },
  {
   "cell_type": "code",
   "execution_count": 5,
   "metadata": {},
   "outputs": [],
   "source": [
    "# root_dir = '/Volumes'\n",
    "# root_dir = '/hpcnfs'\n",
    "# \n",
    "# input_dir = root_dir + '/scratch/DIMA/chiodin/repositories/image_registration_pipeline/image_registration/data/input'\n",
    "# output_dir = root_dir + '/scratch/DIMA/chiodin/repositories/image_registration_pipeline/image_registration/data/output'\n",
    "# input_ext = '.nd2'\n",
    "# output_ext = '.nd2'\n",
    "# logs_dir = '/hpcnfs/scratch/DIMA/chiodin/repositories/image_registration_pipeline/image_registration/logs'\n",
    "# backups_dir = '/Users/alessiochiodin/Documents/Repositories/image_registration_pipeline/image_registration/logs/io/backups'\n",
    "\n",
    "\n",
    "input_dir = '/Users/alessiochiodin/Documents/Repositories/image_registration_pipeline/image_registration/data/input'\n",
    "output_dir = '/Users/alessiochiodin/Documents/Repositories/image_registration_pipeline/image_registration/data/output'\n",
    "input_ext = '.png'\n",
    "output_ext = '.png'\n",
    "backups_dir = '/Users/alessiochiodin/Documents/Repositories/image_registration_pipeline/image_registration/logs/io/backups'\n",
    "\n",
    "sample_sheet_dir = os.path.join(logs_dir, 'io')\n",
    "formatted_datetime = datetime.datetime.now().strftime(\"%Y%m%d_%H%M%S\")\n",
    "sample_sheet_backup_filename = f\"sample_sheet_{formatted_datetime}.csv\"\n",
    "\n",
    "sample_sheet_path = os.path.join(sample_sheet_dir, 'sample_sheet.csv')\n",
    "sample_sheet_backup_path = os.path.join(backups_dir, sample_sheet_backup_filename)"
   ]
  },
  {
   "cell_type": "code",
   "execution_count": 6,
   "metadata": {},
   "outputs": [],
   "source": [
    "formatted_datetime = datetime.datetime.now().strftime(\"%Y%m%d_%H%M%S\")\n",
    "sample_sheet_backup_filename = f\"sample_sheet_{formatted_datetime}.csv\"\n",
    "\n",
    "sample_sheet_path = os.path.join(logs_dir, 'sample_sheet.csv')\n",
    "\n",
    "# Check that all files in output directory have a correspondence in the input directory\n",
    "input_files_stripped = [re.sub(r'\\.\\w+$', '', get_base_directory_and_file(file)) for file in list_files(input_dir)]\n",
    "output_files_stripped = [re.sub(r'\\.\\w+$', '', get_base_directory_and_file(file)) for file in list_files(output_dir)]\n",
    "\n",
    "if output_files_stripped:\n",
    "    for file in output_files_stripped:\n",
    "        if file not in input_files_stripped:\n",
    "            logger.warning(f'Output file \"{file + output_ext}\": no correspondence found in input directory.')\n",
    "\n",
    "if os.path.exists(sample_sheet_path):\n",
    "    sample_sheet = pd.read_csv(sample_sheet_path)\n",
    "    # Check that all output files are in log\n",
    "    output_files = list_files(output_dir) \n",
    "    if output_files:\n",
    "        for element in output_files:\n",
    "            if element not in list(sample_sheet['output_path']):\n",
    "                logger.warning(f'Output file \"{element}\" not found in output files log.')\n",
    "\n",
    "    # Check that all logged input files exist\n",
    "    input_files = list_files(input_dir)\n",
    "    for element in list(sample_sheet['input_path']):\n",
    "        if element not in input_files:\n",
    "            logger.warning(f'Input file \"{element}\" not found in input directory.')"
   ]
  },
  {
   "cell_type": "code",
   "execution_count": 7,
   "metadata": {},
   "outputs": [
    {
     "name": "stderr",
     "output_type": "stream",
     "text": [
      "2024-08-10 09:27:26,057 - INFO - Sample sheet generated successfully.\n"
     ]
    }
   ],
   "source": [
    "sample_sheet = generate_sample_sheet(input_dir, output_dir, input_ext, output_ext)"
   ]
  },
  {
   "cell_type": "code",
   "execution_count": 13,
   "metadata": {},
   "outputs": [],
   "source": [
    "# sample_sheet.to_csv(sample_sheet_path, index=False)"
   ]
  },
  {
   "cell_type": "code",
   "execution_count": 14,
   "metadata": {},
   "outputs": [],
   "source": [
    "# make_dirs(sample_sheet)"
   ]
  },
  {
   "cell_type": "code",
   "execution_count": 9,
   "metadata": {},
   "outputs": [
    {
     "data": {
      "text/html": [
       "<div>\n",
       "<style scoped>\n",
       "    .dataframe tbody tr th:only-of-type {\n",
       "        vertical-align: middle;\n",
       "    }\n",
       "\n",
       "    .dataframe tbody tr th {\n",
       "        vertical-align: top;\n",
       "    }\n",
       "\n",
       "    .dataframe thead th {\n",
       "        text-align: right;\n",
       "    }\n",
       "</style>\n",
       "<table border=\"1\" class=\"dataframe\">\n",
       "  <thead>\n",
       "    <tr style=\"text-align: right;\">\n",
       "      <th></th>\n",
       "      <th>patient_id</th>\n",
       "      <th>input_path</th>\n",
       "      <th>output_path</th>\n",
       "      <th>processed</th>\n",
       "      <th>fixed_image_path</th>\n",
       "    </tr>\n",
       "  </thead>\n",
       "  <tbody>\n",
       "    <tr>\n",
       "      <th>1</th>\n",
       "      <td>1</td>\n",
       "      <td>/Users/alessiochiodin/Documents/Repositories/image_registration_pipeline/image_registration/data/input/2024.07.28_TRT/1_TRT.png</td>\n",
       "      <td>/Users/alessiochiodin/Documents/Repositories/image_registration_pipeline/image_registration/data/output/2024.07.28_TRT/1_TRT.png</td>\n",
       "      <td>False</td>\n",
       "      <td>/Users/alessiochiodin/Documents/Repositories/image_registration_pipeline/image_registration/data/input/2024.07.28_TRT/1_TRT.png</td>\n",
       "    </tr>\n",
       "    <tr>\n",
       "      <th>0</th>\n",
       "      <td>1</td>\n",
       "      <td>/Users/alessiochiodin/Documents/Repositories/image_registration_pipeline/image_registration/data/input/2024.07.29_TREN/1_TREN.png</td>\n",
       "      <td>/Users/alessiochiodin/Documents/Repositories/image_registration_pipeline/image_registration/data/output/2024.07.29_TREN/1_TREN.png</td>\n",
       "      <td>False</td>\n",
       "      <td>/Users/alessiochiodin/Documents/Repositories/image_registration_pipeline/image_registration/data/input/2024.07.28_TRT/1_TRT.png</td>\n",
       "    </tr>\n",
       "  </tbody>\n",
       "</table>\n",
       "</div>"
      ],
      "text/plain": [
       "  patient_id  \\\n",
       "1  1           \n",
       "0  1           \n",
       "\n",
       "                                                                                                                          input_path  \\\n",
       "1  /Users/alessiochiodin/Documents/Repositories/image_registration_pipeline/image_registration/data/input/2024.07.28_TRT/1_TRT.png     \n",
       "0  /Users/alessiochiodin/Documents/Repositories/image_registration_pipeline/image_registration/data/input/2024.07.29_TREN/1_TREN.png   \n",
       "\n",
       "                                                                                                                          output_path  \\\n",
       "1  /Users/alessiochiodin/Documents/Repositories/image_registration_pipeline/image_registration/data/output/2024.07.28_TRT/1_TRT.png     \n",
       "0  /Users/alessiochiodin/Documents/Repositories/image_registration_pipeline/image_registration/data/output/2024.07.29_TREN/1_TREN.png   \n",
       "\n",
       "   processed  \\\n",
       "1  False       \n",
       "0  False       \n",
       "\n",
       "                                                                                                                  fixed_image_path  \n",
       "1  /Users/alessiochiodin/Documents/Repositories/image_registration_pipeline/image_registration/data/input/2024.07.28_TRT/1_TRT.png  \n",
       "0  /Users/alessiochiodin/Documents/Repositories/image_registration_pipeline/image_registration/data/input/2024.07.28_TRT/1_TRT.png  "
      ]
     },
     "execution_count": 9,
     "metadata": {},
     "output_type": "execute_result"
    }
   ],
   "source": [
    "from image_registration.src.utils.image_loading import assign_fixed_image\n",
    "\n",
    "assign_fixed_image(sample_sheet)"
   ]
  }
 ],
 "metadata": {
  "kernelspec": {
   "display_name": "base",
   "language": "python",
   "name": "python3"
  },
  "language_info": {
   "codemirror_mode": {
    "name": "ipython",
    "version": 3
   },
   "file_extension": ".py",
   "mimetype": "text/x-python",
   "name": "python",
   "nbconvert_exporter": "python",
   "pygments_lexer": "ipython3",
   "version": "3.12.2"
  }
 },
 "nbformat": 4,
 "nbformat_minor": 2
}
